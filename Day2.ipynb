{
 "cells": [
  {
   "cell_type": "code",
   "execution_count": 3,
   "id": "c867c2a1",
   "metadata": {},
   "outputs": [
    {
     "name": "stdout",
     "output_type": "stream",
     "text": [
      "[] <class 'list'>\n",
      "[40, 55]\n"
     ]
    }
   ],
   "source": [
    "list1=[]\n",
    "print(list1,type(list1))\n",
    "list1.insert(0,40)\n",
    "list1.append(50)\n",
    "list1.extend([55,60,70]) #adding the elements into the list\n",
    "list1.pop() #remove the elment by index\n",
    "list1.remove(60) #to remove the element\n",
    "del list1[1] #to delete an particular elment from the list by indexing\n",
    "print(list1)"
   ]
  },
  {
   "cell_type": "code",
   "execution_count": 8,
   "id": "dc5dae84",
   "metadata": {},
   "outputs": [
    {
     "name": "stdout",
     "output_type": "stream",
     "text": [
      "enter the sentencesarat 321\n",
      "[5, 3]\n"
     ]
    }
   ],
   "source": [
    "stc=input(\"enter the sentence\")\n",
    "li=list(stc)\n",
    "c=0\n",
    "n=0\n",
    "for i in range(len(li)):\n",
    "    if ord(li[i])>=97 and ord(li[i])<=122:\n",
    "        c=c+1\n",
    "    elif ord(li[i])>=65 and ord(li[i])<=90:\n",
    "        c=c+1\n",
    "    elif ord(li[i])>=48 and ord(li[i])<=57:\n",
    "        n=n+1\n",
    "    else:\n",
    "        c=c\n",
    "        n=n\n",
    "list1=[]\n",
    "list1.append(c)\n",
    "list1.append(n)\n",
    "print(list1)\n"
   ]
  },
  {
   "cell_type": "code",
   "execution_count": 9,
   "id": "3b520952",
   "metadata": {},
   "outputs": [
    {
     "data": {
      "text/plain": [
       "[7, 3]"
      ]
     },
     "execution_count": 9,
     "metadata": {},
     "output_type": "execute_result"
    }
   ],
   "source": [
    "def fun(str1):\n",
    "    l_count=0\n",
    "    d_count=0\n",
    "    for i in str1:\n",
    "        if i.isalpha():\n",
    "            l_count=l_count+1\n",
    "        elif i.isdigit():\n",
    "            d_count=d_count+1\n",
    "        else:\n",
    "            continue\n",
    "    return [l_count,d_count]\n",
    "fun(\"Infosys 123\")"
   ]
  },
  {
   "cell_type": "code",
   "execution_count": 18,
   "id": "9278492c",
   "metadata": {},
   "outputs": [
    {
     "name": "stdout",
     "output_type": "stream",
     "text": [
      "1 2 7 4 5 6 0 3\n",
      "enter the target value6\n",
      "1 5\n",
      "2 4\n",
      "4 2\n",
      "5 1\n",
      "6 0\n",
      "0 6\n",
      "3\n"
     ]
    }
   ],
   "source": [
    "x=map(int,input().split(\" \"))\n",
    "s=list(x)\n",
    "n=int(input(\"enter the target value\"))\n",
    "c=0\n",
    "for i in s:\n",
    "    m=0\n",
    "    for j in s:\n",
    "        if i!=j:\n",
    "            m=i+j\n",
    "            if m==n:\n",
    "                c=c+1\n",
    "            else:\n",
    "                c=c\n",
    "c=c//2\n",
    "print(c)"
   ]
  },
  {
   "cell_type": "code",
   "execution_count": 19,
   "id": "3152e259",
   "metadata": {},
   "outputs": [
    {
     "name": "stdout",
     "output_type": "stream",
     "text": [
      "6\n",
      "3\n"
     ]
    }
   ],
   "source": [
    "#question\n",
    "def find_pairs_of_numbers(l,n):\n",
    "    c=0\n",
    "    for x in l:\n",
    "        index=l.index(x)+1\n",
    "        for y in range(index,len(l)):\n",
    "            if x+l[y]==n:\n",
    "                c=c+1\n",
    "    return c\n",
    "l=[1,2,7,4,5,6,0,3]\n",
    "n=int(input())\n",
    "print(find_pairs_of_numbers(l,n))"
   ]
  },
  {
   "cell_type": "code",
   "execution_count": 27,
   "id": "43bb7ce8",
   "metadata": {},
   "outputs": [
    {
     "name": "stdout",
     "output_type": "stream",
     "text": [
      "enter the stringa\n"
     ]
    },
    {
     "data": {
      "text/plain": [
       "'-1'"
      ]
     },
     "execution_count": 27,
     "metadata": {},
     "output_type": "execute_result"
    }
   ],
   "source": [
    "\n",
    "def myfun(sam):\n",
    "    b=len(sam)\n",
    "    if b<2:\n",
    "        return \"-1\"\n",
    "    elif b==2:\n",
    "        sam1=sam+sam\n",
    "        return sam1\n",
    "    else:\n",
    "        l=list(sam)\n",
    "        st=l[0]+l[1]+l[-2]+l[-1]\n",
    "    return st\n",
    "sam=input(\"enter the string\")\n",
    "myfun(sam)"
   ]
  },
  {
   "cell_type": "code",
   "execution_count": 41,
   "id": "86b03e89",
   "metadata": {},
   "outputs": [
    {
     "name": "stdout",
     "output_type": "stream",
     "text": [
      "enter the stringsleep\n",
      "sleeping\n"
     ]
    }
   ],
   "source": [
    "sat=input(\"enter the string\")\n",
    "s=sat[-3]+sat[-2]+sat[-1]\n",
    "if len(sat)<3:\n",
    "    print(\"-1\")\n",
    "elif \"ing\" not in sat:\n",
    "    s1=sat+\"ing\"\n",
    "    print(s1)\n",
    "elif \"ing\" in sat:\n",
    "    s1=sat+\"ly\"\n",
    "    print(s1)\n",
    "else:\n",
    "    print(sat)\n",
    "    \n",
    "    "
   ]
  },
  {
   "cell_type": "code",
   "execution_count": 39,
   "id": "7247e27c",
   "metadata": {},
   "outputs": [
    {
     "name": "stdout",
     "output_type": "stream",
     "text": [
      "sleeping\n",
      "is\n",
      "amezingly\n"
     ]
    }
   ],
   "source": [
    "def add_string(str1):\n",
    "    length=len(str1)\n",
    "    if length>2:\n",
    "        if str1[-3:]==\"ing\":\n",
    "            str1+=\"ly\"\n",
    "        else:\n",
    "            str1+=\"ing\"\n",
    "    return str1\n",
    "print(add_string('sleep'))\n",
    "print(add_string('is'))\n",
    "print(add_string('amezing'))"
   ]
  },
  {
   "cell_type": "code",
   "execution_count": 42,
   "id": "0ebf2e42",
   "metadata": {},
   "outputs": [
    {
     "name": "stdout",
     "output_type": "stream",
     "text": [
      "12344\n"
     ]
    }
   ],
   "source": [
    "num=12344\n",
    "s=str(num)\n",
    "print(s)"
   ]
  },
  {
   "cell_type": "code",
   "execution_count": 45,
   "id": "52e6176d",
   "metadata": {},
   "outputs": [
    {
     "ename": "KeyboardInterrupt",
     "evalue": "",
     "output_type": "error",
     "traceback": [
      "\u001b[1;31m---------------------------------------------------------------------------\u001b[0m",
      "\u001b[1;31mKeyboardInterrupt\u001b[0m                         Traceback (most recent call last)",
      "\u001b[1;32m~\\AppData\\Local\\Temp/ipykernel_12600/1645456908.py\u001b[0m in \u001b[0;36m<module>\u001b[1;34m\u001b[0m\n\u001b[0;32m     21\u001b[0m         \u001b[0mli\u001b[0m\u001b[1;33m.\u001b[0m\u001b[0mappend\u001b[0m\u001b[1;33m(\u001b[0m\u001b[0mrev\u001b[0m\u001b[1;33m)\u001b[0m\u001b[1;33m\u001b[0m\u001b[1;33m\u001b[0m\u001b[0m\n\u001b[0;32m     22\u001b[0m     \u001b[1;32mreturn\u001b[0m \u001b[0mli\u001b[0m\u001b[1;33m\u001b[0m\u001b[1;33m\u001b[0m\u001b[0m\n\u001b[1;32m---> 23\u001b[1;33m \u001b[0mdouble\u001b[0m\u001b[1;33m(\u001b[0m\u001b[1;36m125874\u001b[0m\u001b[1;33m)\u001b[0m\u001b[1;33m\u001b[0m\u001b[1;33m\u001b[0m\u001b[0m\n\u001b[0m\u001b[0;32m     24\u001b[0m \u001b[1;33m\u001b[0m\u001b[0m\n\u001b[0;32m     25\u001b[0m \u001b[1;33m\u001b[0m\u001b[0m\n",
      "\u001b[1;32m~\\AppData\\Local\\Temp/ipykernel_12600/1645456908.py\u001b[0m in \u001b[0;36mdouble\u001b[1;34m(num)\u001b[0m\n\u001b[0;32m      2\u001b[0m     \u001b[0mc\u001b[0m\u001b[1;33m=\u001b[0m\u001b[1;36m0\u001b[0m\u001b[1;33m\u001b[0m\u001b[1;33m\u001b[0m\u001b[0m\n\u001b[0;32m      3\u001b[0m     \u001b[0md\u001b[0m\u001b[1;33m=\u001b[0m\u001b[0mnum\u001b[0m\u001b[1;33m*\u001b[0m\u001b[1;36m2\u001b[0m\u001b[1;33m\u001b[0m\u001b[1;33m\u001b[0m\u001b[0m\n\u001b[1;32m----> 4\u001b[1;33m     \u001b[0ml\u001b[0m\u001b[1;33m=\u001b[0m\u001b[0mfun\u001b[0m\u001b[1;33m(\u001b[0m\u001b[0md\u001b[0m\u001b[1;33m)\u001b[0m\u001b[1;33m\u001b[0m\u001b[1;33m\u001b[0m\u001b[0m\n\u001b[0m\u001b[0;32m      5\u001b[0m     \u001b[0mr\u001b[0m\u001b[1;33m=\u001b[0m\u001b[0mfun\u001b[0m\u001b[1;33m(\u001b[0m\u001b[0mnum\u001b[0m\u001b[1;33m)\u001b[0m\u001b[1;33m\u001b[0m\u001b[1;33m\u001b[0m\u001b[0m\n\u001b[0;32m      6\u001b[0m     \u001b[0mb\u001b[0m\u001b[1;33m=\u001b[0m\u001b[0mlen\u001b[0m\u001b[1;33m(\u001b[0m\u001b[0ml\u001b[0m\u001b[1;33m)\u001b[0m\u001b[1;33m\u001b[0m\u001b[1;33m\u001b[0m\u001b[0m\n",
      "\u001b[1;32m~\\AppData\\Local\\Temp/ipykernel_12600/1645456908.py\u001b[0m in \u001b[0;36mfun\u001b[1;34m(d)\u001b[0m\n\u001b[0;32m     19\u001b[0m         \u001b[0mrem\u001b[0m\u001b[1;33m=\u001b[0m\u001b[0md\u001b[0m\u001b[1;33m%\u001b[0m\u001b[1;36m10\u001b[0m\u001b[1;33m\u001b[0m\u001b[1;33m\u001b[0m\u001b[0m\n\u001b[0;32m     20\u001b[0m         \u001b[0mrev\u001b[0m\u001b[1;33m=\u001b[0m\u001b[0mrem\u001b[0m\u001b[1;33m*\u001b[0m\u001b[1;36m10\u001b[0m\u001b[1;33m+\u001b[0m\u001b[0mrev\u001b[0m\u001b[1;33m\u001b[0m\u001b[1;33m\u001b[0m\u001b[0m\n\u001b[1;32m---> 21\u001b[1;33m         \u001b[0mli\u001b[0m\u001b[1;33m.\u001b[0m\u001b[0mappend\u001b[0m\u001b[1;33m(\u001b[0m\u001b[0mrev\u001b[0m\u001b[1;33m)\u001b[0m\u001b[1;33m\u001b[0m\u001b[1;33m\u001b[0m\u001b[0m\n\u001b[0m\u001b[0;32m     22\u001b[0m     \u001b[1;32mreturn\u001b[0m \u001b[0mli\u001b[0m\u001b[1;33m\u001b[0m\u001b[1;33m\u001b[0m\u001b[0m\n\u001b[0;32m     23\u001b[0m \u001b[0mdouble\u001b[0m\u001b[1;33m(\u001b[0m\u001b[1;36m125874\u001b[0m\u001b[1;33m)\u001b[0m\u001b[1;33m\u001b[0m\u001b[1;33m\u001b[0m\u001b[0m\n",
      "\u001b[1;31mKeyboardInterrupt\u001b[0m: "
     ]
    }
   ],
   "source": [
    "def double(num):\n",
    "    c=0\n",
    "    d=num*2\n",
    "    l=fun(d)\n",
    "    r=fun(num)\n",
    "    b=len(l)\n",
    "    for i in l:\n",
    "        if i in r:\n",
    "            c=c+1\n",
    "    if c==b:\n",
    "        print(\"the are same\")\n",
    "    else:\n",
    "        print(\"they are different\")\n",
    "def fun(d):\n",
    "    li=[]\n",
    "    rev=0\n",
    "    while(d!=0):\n",
    "        rem=d%10\n",
    "        rev=rem*10+rev\n",
    "        li.append(rev)\n",
    "    return li\n",
    "double(125874)\n",
    "        \n",
    "    \n",
    "        \n",
    "        \n",
    "    "
   ]
  },
  {
   "cell_type": "code",
   "execution_count": 59,
   "id": "743a224f",
   "metadata": {},
   "outputs": [
    {
     "name": "stdout",
     "output_type": "stream",
     "text": [
      "490\n"
     ]
    }
   ],
   "source": [
    "n=125874\n",
    "m=n*2\n",
    "print(m)"
   ]
  },
  {
   "cell_type": "code",
   "execution_count": 60,
   "id": "74555f1d",
   "metadata": {},
   "outputs": [
    {
     "name": "stdout",
     "output_type": "stream",
     "text": [
      "enter the number125874\n",
      "both are same\n"
     ]
    }
   ],
   "source": [
    "n=int(input(\"enter the number\"))\n",
    "m=n*2\n",
    "s1=str(m)\n",
    "s2=str(n)\n",
    "a=len(s1)\n",
    "b=len(s2)\n",
    "c=0\n",
    "if a==b:\n",
    "    for i in s1:\n",
    "        if i in s2:\n",
    "            c=c+1\n",
    "if c==a:\n",
    "    print(\"both are same\")\n",
    "else:\n",
    "    print(\"both are not same\")\n"
   ]
  },
  {
   "cell_type": "code",
   "execution_count": 12,
   "id": "f89676a6",
   "metadata": {},
   "outputs": [
    {
     "name": "stdout",
     "output_type": "stream",
     "text": [
      "None\n",
      "4\n"
     ]
    }
   ],
   "source": [
    "t=(1,2,3,4)\n",
    "s=sum(t)\n",
    "s1=len(t)\n",
    "tup=(2,3,1,4)\n",
    "l=list(tup)\n",
    "print(l.sort())\n",
    "print(s1)"
   ]
  },
  {
   "cell_type": "code",
   "execution_count": 15,
   "id": "f868b626",
   "metadata": {},
   "outputs": [
    {
     "name": "stdout",
     "output_type": "stream",
     "text": [
      "70.0\n",
      "[2, 5, 12, 18, 18, 20, 20, 21, 24, 25]\n",
      "[0, 0, 1, 0, 0, 1, 0, 0, 0, 0, 0, 0, 1, 0, 0, 0, 0, 0, 2, 0, 2, 1, 0, 0, 1]\n"
     ]
    }
   ],
   "source": [
    "def avg_mark(tup1):\n",
    "    c=0\n",
    "    s=sum(tup1)#it gives sum of the values\n",
    "    l=len(tup1)#it gives length\n",
    "    avg=s//l\n",
    "    for i in tup1:\n",
    "        if i>=avg:\n",
    "            c=c+1\n",
    "    cs=float(c*100//10)\n",
    "    print(\"the avg of the marks of the class is \")\n",
    "    print(cs)\n",
    "def short_marks(tup1):\n",
    "    li=[]\n",
    "    for i in tup1:\n",
    "        li.append(i)\n",
    "    li.sort()\n",
    "    print(\"the sorted marks are\")\n",
    "    print(li)\n",
    "def frequency_marks(tup1):\n",
    "    li=[]\n",
    "    c=0\n",
    "    for i in range(0,25):\n",
    "        c=0\n",
    "        for j in tup1:\n",
    "            if i==j:\n",
    "                c=c+1\n",
    "        li.append(c)\n",
    "    print(\"the frequency to print that frequency\")\n",
    "    print(li)\n",
    "tup1=(12,18,25,24,2,5,18,20,20,21)\n",
    "avg_mark(tup1)\n",
    "short_marks(tup1)\n",
    "frequency_marks(tup1)\n",
    "    "
   ]
  },
  {
   "cell_type": "code",
   "execution_count": 17,
   "id": "366bac03",
   "metadata": {},
   "outputs": [
    {
     "name": "stdout",
     "output_type": "stream",
     "text": [
      "1\n",
      "2\n"
     ]
    }
   ],
   "source": [
    "dict1={1:\"sarat\",2:\"jk\"}\n",
    "for i in dict1:\n",
    "    print(i)"
   ]
  },
  {
   "cell_type": "code",
   "execution_count": 22,
   "id": "ee02583b",
   "metadata": {},
   "outputs": [
    {
     "name": "stdout",
     "output_type": "stream",
     "text": [
      "enter the wordyear\n",
      "ar\n",
      "['god', 'jul']\n"
     ]
    }
   ],
   "source": [
    "#translating the text into the equalent word\n",
    "def dictonary(dict1,word):\n",
    "    for i in dict1:\n",
    "        if i==word:\n",
    "            print(dict1[i])\n",
    "def dictonary1(dict1,list1):\n",
    "    li=[]\n",
    "    for i in list1:\n",
    "        if i in dict1:\n",
    "            li.append(dict1[i])\n",
    "    print(li)\n",
    "dict1={\"merry\":\"god\",\"cristmas\":\"jul\",\"and\":\"och\",\"happy\":\"gott\",\"new\":\"nytt\",\"year\":\"ar\"}\n",
    "word=input(\"enter the word\")\n",
    "list1=[\"merry\",\"cristmas\"]\n",
    "dictonary(dict1,word)\n",
    "dictonary1(dict1,list1)         "
   ]
  },
  {
   "cell_type": "code",
   "execution_count": 41,
   "id": "5b34ffe9",
   "metadata": {},
   "outputs": [
    {
     "name": "stdout",
     "output_type": "stream",
     "text": [
      "[[1], [1, 2], [1, 2, 3]]\n"
     ]
    }
   ],
   "source": [
    "l=[]\n",
    "for k in range(1,4):\n",
    "    for i in range(0,4):\n",
    "        li=[]\n",
    "        for j in range(1,k+1):\n",
    "            li.append(j)\n",
    "            if li not in l:\n",
    "                l.append(li)\n",
    "print(l)\n",
    "    "
   ]
  },
  {
   "cell_type": "code",
   "execution_count": 43,
   "id": "73a89424",
   "metadata": {},
   "outputs": [
    {
     "name": "stdout",
     "output_type": "stream",
     "text": [
      "enter a value for n11\n",
      "enter a value for n23\n",
      "[1, 2, 3]\n",
      "[[1], [1, 2], [1, 2, 3], [2], [2, 3], [3]]\n"
     ]
    }
   ],
   "source": [
    "n1=int(input(\"enter a value for n1\"))\n",
    "n2=int(input(\"enter a value for n2\"))\n",
    "array=[i for i in range(n1,n2+1)]\n",
    "print(array)\n",
    "result=[]\n",
    "for i in range(len(array)):\n",
    "    for j in range(i,len(array)):\n",
    "        result.append(array[i:j+1])\n",
    "print(result)"
   ]
  },
  {
   "cell_type": "code",
   "execution_count": null,
   "id": "0de4fd6e",
   "metadata": {},
   "outputs": [],
   "source": []
  }
 ],
 "metadata": {
  "kernelspec": {
   "display_name": "Python 3 (ipykernel)",
   "language": "python",
   "name": "python3"
  },
  "language_info": {
   "codemirror_mode": {
    "name": "ipython",
    "version": 3
   },
   "file_extension": ".py",
   "mimetype": "text/x-python",
   "name": "python",
   "nbconvert_exporter": "python",
   "pygments_lexer": "ipython3",
   "version": "3.9.7"
  }
 },
 "nbformat": 4,
 "nbformat_minor": 5
}
